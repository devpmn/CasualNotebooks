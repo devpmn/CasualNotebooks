{
 "cells": [
  {
   "cell_type": "code",
   "execution_count": 1,
   "id": "e97967d0-17e7-4812-b191-b91487ea852d",
   "metadata": {},
   "outputs": [],
   "source": [
    "import pandas as pd"
   ]
  },
  {
   "cell_type": "code",
   "execution_count": 2,
   "id": "f42ad6fe-d3bc-4af4-81f2-96a52a729d89",
   "metadata": {},
   "outputs": [],
   "source": [
    "data_file_path = '/Users/manish/Downloads/Myntra Products - myntra_products_catalog.csv'"
   ]
  },
  {
   "cell_type": "code",
   "execution_count": 3,
   "id": "0e06dec0-1b85-4d8e-b6ee-91e19c85d807",
   "metadata": {},
   "outputs": [],
   "source": [
    "data = pd.read_csv(data_file_path)"
   ]
  },
  {
   "cell_type": "markdown",
   "id": "56692b45-c516-4c84-8afb-a4b467460f90",
   "metadata": {},
   "source": [
    "# Quick Look"
   ]
  },
  {
   "cell_type": "code",
   "execution_count": 4,
   "id": "e9d295b4-e212-40ec-b47e-ed385fcfd0de",
   "metadata": {},
   "outputs": [
    {
     "data": {
      "text/html": [
       "<div>\n",
       "<style scoped>\n",
       "    .dataframe tbody tr th:only-of-type {\n",
       "        vertical-align: middle;\n",
       "    }\n",
       "\n",
       "    .dataframe tbody tr th {\n",
       "        vertical-align: top;\n",
       "    }\n",
       "\n",
       "    .dataframe thead th {\n",
       "        text-align: right;\n",
       "    }\n",
       "</style>\n",
       "<table border=\"1\" class=\"dataframe\">\n",
       "  <thead>\n",
       "    <tr style=\"text-align: right;\">\n",
       "      <th></th>\n",
       "      <th>ProductID</th>\n",
       "      <th>ProductName</th>\n",
       "      <th>ProductBrand</th>\n",
       "      <th>Gender</th>\n",
       "      <th>Price (INR)</th>\n",
       "      <th>Number of Images</th>\n",
       "      <th>Description</th>\n",
       "      <th>Primary Color</th>\n",
       "    </tr>\n",
       "  </thead>\n",
       "  <tbody>\n",
       "    <tr>\n",
       "      <th>0</th>\n",
       "      <td>10017413</td>\n",
       "      <td>DKNY Unisex Black &amp; Grey Printed Medium Trolle...</td>\n",
       "      <td>DKNY</td>\n",
       "      <td>Unisex</td>\n",
       "      <td>11745</td>\n",
       "      <td>7</td>\n",
       "      <td>Black and grey printed medium trolley bag, sec...</td>\n",
       "      <td>Black</td>\n",
       "    </tr>\n",
       "    <tr>\n",
       "      <th>1</th>\n",
       "      <td>10016283</td>\n",
       "      <td>EthnoVogue Women Beige &amp; Grey Made to Measure ...</td>\n",
       "      <td>EthnoVogue</td>\n",
       "      <td>Women</td>\n",
       "      <td>5810</td>\n",
       "      <td>7</td>\n",
       "      <td>Beige &amp; Grey made to measure kurta with churid...</td>\n",
       "      <td>Beige</td>\n",
       "    </tr>\n",
       "    <tr>\n",
       "      <th>2</th>\n",
       "      <td>10009781</td>\n",
       "      <td>SPYKAR Women Pink Alexa Super Skinny Fit High-...</td>\n",
       "      <td>SPYKAR</td>\n",
       "      <td>Women</td>\n",
       "      <td>899</td>\n",
       "      <td>7</td>\n",
       "      <td>Pink coloured wash 5-pocket high-rise cropped ...</td>\n",
       "      <td>Pink</td>\n",
       "    </tr>\n",
       "  </tbody>\n",
       "</table>\n",
       "</div>"
      ],
      "text/plain": [
       "   ProductID                                        ProductName ProductBrand  \\\n",
       "0   10017413  DKNY Unisex Black & Grey Printed Medium Trolle...         DKNY   \n",
       "1   10016283  EthnoVogue Women Beige & Grey Made to Measure ...   EthnoVogue   \n",
       "2   10009781  SPYKAR Women Pink Alexa Super Skinny Fit High-...       SPYKAR   \n",
       "\n",
       "   Gender  Price (INR)  Number of Images  \\\n",
       "0  Unisex        11745                 7   \n",
       "1   Women         5810                 7   \n",
       "2   Women          899                 7   \n",
       "\n",
       "                                         Description Primary Color  \n",
       "0  Black and grey printed medium trolley bag, sec...         Black  \n",
       "1  Beige & Grey made to measure kurta with churid...         Beige  \n",
       "2  Pink coloured wash 5-pocket high-rise cropped ...          Pink  "
      ]
     },
     "execution_count": 4,
     "metadata": {},
     "output_type": "execute_result"
    }
   ],
   "source": [
    "data.head(3)"
   ]
  },
  {
   "cell_type": "code",
   "execution_count": 5,
   "id": "a487ad65-1980-409d-8c0b-24ed92620c08",
   "metadata": {},
   "outputs": [
    {
     "data": {
      "text/html": [
       "<div>\n",
       "<style scoped>\n",
       "    .dataframe tbody tr th:only-of-type {\n",
       "        vertical-align: middle;\n",
       "    }\n",
       "\n",
       "    .dataframe tbody tr th {\n",
       "        vertical-align: top;\n",
       "    }\n",
       "\n",
       "    .dataframe thead th {\n",
       "        text-align: right;\n",
       "    }\n",
       "</style>\n",
       "<table border=\"1\" class=\"dataframe\">\n",
       "  <thead>\n",
       "    <tr style=\"text-align: right;\">\n",
       "      <th></th>\n",
       "      <th>ProductID</th>\n",
       "      <th>ProductName</th>\n",
       "      <th>ProductBrand</th>\n",
       "      <th>Gender</th>\n",
       "      <th>Price (INR)</th>\n",
       "      <th>Number of Images</th>\n",
       "      <th>Description</th>\n",
       "      <th>Primary Color</th>\n",
       "    </tr>\n",
       "  </thead>\n",
       "  <tbody>\n",
       "    <tr>\n",
       "      <th>12486</th>\n",
       "      <td>10262843</td>\n",
       "      <td>Pepe Jeans Men Black Hammock Slim Fit Low-Rise...</td>\n",
       "      <td>Pepe Jeans</td>\n",
       "      <td>Men</td>\n",
       "      <td>1299</td>\n",
       "      <td>7</td>\n",
       "      <td>Black dark wash 5-pocket low-rise jeans, clean...</td>\n",
       "      <td>Black</td>\n",
       "    </tr>\n",
       "    <tr>\n",
       "      <th>12487</th>\n",
       "      <td>10261721</td>\n",
       "      <td>Mochi Women Gold-Toned Solid Heels</td>\n",
       "      <td>Mochi</td>\n",
       "      <td>Women</td>\n",
       "      <td>1990</td>\n",
       "      <td>5</td>\n",
       "      <td>A pair of gold-toned open toe heels, has regul...</td>\n",
       "      <td>Gold</td>\n",
       "    </tr>\n",
       "    <tr>\n",
       "      <th>12488</th>\n",
       "      <td>10261607</td>\n",
       "      <td>612 league Girls Navy Blue &amp; White Printed Reg...</td>\n",
       "      <td>612 league</td>\n",
       "      <td>Girls</td>\n",
       "      <td>602</td>\n",
       "      <td>4</td>\n",
       "      <td>Navy Blue and White printed mid-rise denim sho...</td>\n",
       "      <td>Blue</td>\n",
       "    </tr>\n",
       "    <tr>\n",
       "      <th>12489</th>\n",
       "      <td>10266621</td>\n",
       "      <td>Bvlgari Men Aqva Pour Homme Marine Eau de Toil...</td>\n",
       "      <td>Bvlgari</td>\n",
       "      <td>Men</td>\n",
       "      <td>8950</td>\n",
       "      <td>2</td>\n",
       "      <td>Bvlgari Men Aqva Pour Homme Marine Eau de Toil...</td>\n",
       "      <td>NaN</td>\n",
       "    </tr>\n",
       "    <tr>\n",
       "      <th>12490</th>\n",
       "      <td>10265199</td>\n",
       "      <td>Pepe Jeans Men Black &amp; Grey Striped Polo Colla...</td>\n",
       "      <td>Pepe Jeans</td>\n",
       "      <td>Men</td>\n",
       "      <td>799</td>\n",
       "      <td>5</td>\n",
       "      <td>Black and grey striped T-shirt, has a polo col...</td>\n",
       "      <td>Black</td>\n",
       "    </tr>\n",
       "  </tbody>\n",
       "</table>\n",
       "</div>"
      ],
      "text/plain": [
       "       ProductID                                        ProductName  \\\n",
       "12486   10262843  Pepe Jeans Men Black Hammock Slim Fit Low-Rise...   \n",
       "12487   10261721                 Mochi Women Gold-Toned Solid Heels   \n",
       "12488   10261607  612 league Girls Navy Blue & White Printed Reg...   \n",
       "12489   10266621  Bvlgari Men Aqva Pour Homme Marine Eau de Toil...   \n",
       "12490   10265199  Pepe Jeans Men Black & Grey Striped Polo Colla...   \n",
       "\n",
       "      ProductBrand Gender  Price (INR)  Number of Images  \\\n",
       "12486   Pepe Jeans    Men         1299                 7   \n",
       "12487        Mochi  Women         1990                 5   \n",
       "12488   612 league  Girls          602                 4   \n",
       "12489      Bvlgari    Men         8950                 2   \n",
       "12490   Pepe Jeans    Men          799                 5   \n",
       "\n",
       "                                             Description Primary Color  \n",
       "12486  Black dark wash 5-pocket low-rise jeans, clean...         Black  \n",
       "12487  A pair of gold-toned open toe heels, has regul...          Gold  \n",
       "12488  Navy Blue and White printed mid-rise denim sho...          Blue  \n",
       "12489  Bvlgari Men Aqva Pour Homme Marine Eau de Toil...           NaN  \n",
       "12490  Black and grey striped T-shirt, has a polo col...         Black  "
      ]
     },
     "execution_count": 5,
     "metadata": {},
     "output_type": "execute_result"
    }
   ],
   "source": [
    "data.tail(5)"
   ]
  },
  {
   "cell_type": "code",
   "execution_count": 6,
   "id": "d1c9eeb2-4480-469d-9455-00f883da8cbd",
   "metadata": {},
   "outputs": [
    {
     "name": "stdout",
     "output_type": "stream",
     "text": [
      "<class 'pandas.core.frame.DataFrame'>\n",
      "RangeIndex: 12491 entries, 0 to 12490\n",
      "Data columns (total 8 columns):\n",
      " #   Column            Non-Null Count  Dtype \n",
      "---  ------            --------------  ----- \n",
      " 0   ProductID         12491 non-null  int64 \n",
      " 1   ProductName       12491 non-null  object\n",
      " 2   ProductBrand      12491 non-null  object\n",
      " 3   Gender            12491 non-null  object\n",
      " 4   Price (INR)       12491 non-null  int64 \n",
      " 5   Number of Images  12491 non-null  int64 \n",
      " 6   Description       12491 non-null  object\n",
      " 7   Primary Color     11597 non-null  object\n",
      "dtypes: int64(3), object(5)\n",
      "memory usage: 780.8+ KB\n"
     ]
    }
   ],
   "source": [
    "data.info()"
   ]
  },
  {
   "cell_type": "code",
   "execution_count": 7,
   "id": "1c3bf0a3-2559-43e9-98f0-46d6cf582d32",
   "metadata": {},
   "outputs": [
    {
     "data": {
      "text/html": [
       "<div>\n",
       "<style scoped>\n",
       "    .dataframe tbody tr th:only-of-type {\n",
       "        vertical-align: middle;\n",
       "    }\n",
       "\n",
       "    .dataframe tbody tr th {\n",
       "        vertical-align: top;\n",
       "    }\n",
       "\n",
       "    .dataframe thead th {\n",
       "        text-align: right;\n",
       "    }\n",
       "</style>\n",
       "<table border=\"1\" class=\"dataframe\">\n",
       "  <thead>\n",
       "    <tr style=\"text-align: right;\">\n",
       "      <th></th>\n",
       "      <th>ProductID</th>\n",
       "      <th>ProductName</th>\n",
       "      <th>ProductBrand</th>\n",
       "      <th>Gender</th>\n",
       "      <th>Price (INR)</th>\n",
       "      <th>Number of Images</th>\n",
       "      <th>Description</th>\n",
       "      <th>Primary Color</th>\n",
       "    </tr>\n",
       "  </thead>\n",
       "  <tbody>\n",
       "    <tr>\n",
       "      <th>count</th>\n",
       "      <td>1.249100e+04</td>\n",
       "      <td>12491</td>\n",
       "      <td>12491</td>\n",
       "      <td>12491</td>\n",
       "      <td>12491.000000</td>\n",
       "      <td>12491.000000</td>\n",
       "      <td>12491</td>\n",
       "      <td>11597</td>\n",
       "    </tr>\n",
       "    <tr>\n",
       "      <th>unique</th>\n",
       "      <td>NaN</td>\n",
       "      <td>10761</td>\n",
       "      <td>677</td>\n",
       "      <td>6</td>\n",
       "      <td>NaN</td>\n",
       "      <td>NaN</td>\n",
       "      <td>10435</td>\n",
       "      <td>27</td>\n",
       "    </tr>\n",
       "    <tr>\n",
       "      <th>top</th>\n",
       "      <td>NaN</td>\n",
       "      <td>Parx Men Blue Slim Fit Checked Casual Shirt</td>\n",
       "      <td>Indian Terrain</td>\n",
       "      <td>Women</td>\n",
       "      <td>NaN</td>\n",
       "      <td>NaN</td>\n",
       "      <td>Blue medium wash 5-pocket mid-rise jeans, clea...</td>\n",
       "      <td>Blue</td>\n",
       "    </tr>\n",
       "    <tr>\n",
       "      <th>freq</th>\n",
       "      <td>NaN</td>\n",
       "      <td>16</td>\n",
       "      <td>971</td>\n",
       "      <td>5126</td>\n",
       "      <td>NaN</td>\n",
       "      <td>NaN</td>\n",
       "      <td>54</td>\n",
       "      <td>3443</td>\n",
       "    </tr>\n",
       "    <tr>\n",
       "      <th>mean</th>\n",
       "      <td>9.917160e+06</td>\n",
       "      <td>NaN</td>\n",
       "      <td>NaN</td>\n",
       "      <td>NaN</td>\n",
       "      <td>1452.660956</td>\n",
       "      <td>4.913698</td>\n",
       "      <td>NaN</td>\n",
       "      <td>NaN</td>\n",
       "    </tr>\n",
       "    <tr>\n",
       "      <th>std</th>\n",
       "      <td>1.438006e+06</td>\n",
       "      <td>NaN</td>\n",
       "      <td>NaN</td>\n",
       "      <td>NaN</td>\n",
       "      <td>2118.503976</td>\n",
       "      <td>1.092333</td>\n",
       "      <td>NaN</td>\n",
       "      <td>NaN</td>\n",
       "    </tr>\n",
       "    <tr>\n",
       "      <th>min</th>\n",
       "      <td>1.012060e+05</td>\n",
       "      <td>NaN</td>\n",
       "      <td>NaN</td>\n",
       "      <td>NaN</td>\n",
       "      <td>90.000000</td>\n",
       "      <td>1.000000</td>\n",
       "      <td>NaN</td>\n",
       "      <td>NaN</td>\n",
       "    </tr>\n",
       "    <tr>\n",
       "      <th>25%</th>\n",
       "      <td>1.006215e+07</td>\n",
       "      <td>NaN</td>\n",
       "      <td>NaN</td>\n",
       "      <td>NaN</td>\n",
       "      <td>649.000000</td>\n",
       "      <td>5.000000</td>\n",
       "      <td>NaN</td>\n",
       "      <td>NaN</td>\n",
       "    </tr>\n",
       "    <tr>\n",
       "      <th>50%</th>\n",
       "      <td>1.015463e+07</td>\n",
       "      <td>NaN</td>\n",
       "      <td>NaN</td>\n",
       "      <td>NaN</td>\n",
       "      <td>920.000000</td>\n",
       "      <td>5.000000</td>\n",
       "      <td>NaN</td>\n",
       "      <td>NaN</td>\n",
       "    </tr>\n",
       "    <tr>\n",
       "      <th>75%</th>\n",
       "      <td>1.021565e+07</td>\n",
       "      <td>NaN</td>\n",
       "      <td>NaN</td>\n",
       "      <td>NaN</td>\n",
       "      <td>1499.000000</td>\n",
       "      <td>5.000000</td>\n",
       "      <td>NaN</td>\n",
       "      <td>NaN</td>\n",
       "    </tr>\n",
       "    <tr>\n",
       "      <th>max</th>\n",
       "      <td>1.027514e+07</td>\n",
       "      <td>NaN</td>\n",
       "      <td>NaN</td>\n",
       "      <td>NaN</td>\n",
       "      <td>63090.000000</td>\n",
       "      <td>10.000000</td>\n",
       "      <td>NaN</td>\n",
       "      <td>NaN</td>\n",
       "    </tr>\n",
       "  </tbody>\n",
       "</table>\n",
       "</div>"
      ],
      "text/plain": [
       "           ProductID                                  ProductName  \\\n",
       "count   1.249100e+04                                        12491   \n",
       "unique           NaN                                        10761   \n",
       "top              NaN  Parx Men Blue Slim Fit Checked Casual Shirt   \n",
       "freq             NaN                                           16   \n",
       "mean    9.917160e+06                                          NaN   \n",
       "std     1.438006e+06                                          NaN   \n",
       "min     1.012060e+05                                          NaN   \n",
       "25%     1.006215e+07                                          NaN   \n",
       "50%     1.015463e+07                                          NaN   \n",
       "75%     1.021565e+07                                          NaN   \n",
       "max     1.027514e+07                                          NaN   \n",
       "\n",
       "          ProductBrand Gender   Price (INR)  Number of Images  \\\n",
       "count            12491  12491  12491.000000      12491.000000   \n",
       "unique             677      6           NaN               NaN   \n",
       "top     Indian Terrain  Women           NaN               NaN   \n",
       "freq               971   5126           NaN               NaN   \n",
       "mean               NaN    NaN   1452.660956          4.913698   \n",
       "std                NaN    NaN   2118.503976          1.092333   \n",
       "min                NaN    NaN     90.000000          1.000000   \n",
       "25%                NaN    NaN    649.000000          5.000000   \n",
       "50%                NaN    NaN    920.000000          5.000000   \n",
       "75%                NaN    NaN   1499.000000          5.000000   \n",
       "max                NaN    NaN  63090.000000         10.000000   \n",
       "\n",
       "                                              Description Primary Color  \n",
       "count                                               12491         11597  \n",
       "unique                                              10435            27  \n",
       "top     Blue medium wash 5-pocket mid-rise jeans, clea...          Blue  \n",
       "freq                                                   54          3443  \n",
       "mean                                                  NaN           NaN  \n",
       "std                                                   NaN           NaN  \n",
       "min                                                   NaN           NaN  \n",
       "25%                                                   NaN           NaN  \n",
       "50%                                                   NaN           NaN  \n",
       "75%                                                   NaN           NaN  \n",
       "max                                                   NaN           NaN  "
      ]
     },
     "execution_count": 7,
     "metadata": {},
     "output_type": "execute_result"
    }
   ],
   "source": [
    "data.describe(include = \"all\")"
   ]
  },
  {
   "cell_type": "code",
   "execution_count": 8,
   "id": "3dcb769b-81b2-4ab6-9aa0-cc6bde516cd3",
   "metadata": {},
   "outputs": [
    {
     "data": {
      "text/plain": [
       "Indian Terrain                  0.077736\n",
       "Puma                            0.027620\n",
       "Pepe Jeans                      0.027220\n",
       "AURELIA                         0.024578\n",
       "Flying Machine                  0.024097\n",
       "                                  ...   \n",
       "Johnny Bravo by Kook N Keech    0.000080\n",
       "Allen Solly Sport               0.000080\n",
       "HAMMER                          0.000080\n",
       "CUTECUMBER                      0.000080\n",
       "Stupid Cupid                    0.000080\n",
       "Name: ProductBrand, Length: 677, dtype: float64"
      ]
     },
     "execution_count": 8,
     "metadata": {},
     "output_type": "execute_result"
    }
   ],
   "source": [
    "data.ProductBrand.value_counts(normalize = True)"
   ]
  },
  {
   "cell_type": "markdown",
   "id": "9fbd5c83-a565-4d58-a5e2-667d1470ecf7",
   "metadata": {
    "tags": []
   },
   "source": [
    "# Remove Dupes"
   ]
  },
  {
   "cell_type": "code",
   "execution_count": 9,
   "id": "65a44bfe-9469-4f32-816c-6df315bbc06d",
   "metadata": {},
   "outputs": [],
   "source": [
    "data.drop_duplicates(inplace = True)"
   ]
  },
  {
   "cell_type": "markdown",
   "id": "63eb2053-35de-43d8-87aa-0266a6bb794d",
   "metadata": {
    "tags": []
   },
   "source": [
    "# Most Expensive Product"
   ]
  },
  {
   "cell_type": "code",
   "execution_count": 10,
   "id": "e3296382-1e1b-4b99-849d-e73ba1ee17ff",
   "metadata": {},
   "outputs": [
    {
     "data": {
      "text/html": [
       "<div>\n",
       "<style scoped>\n",
       "    .dataframe tbody tr th:only-of-type {\n",
       "        vertical-align: middle;\n",
       "    }\n",
       "\n",
       "    .dataframe tbody tr th {\n",
       "        vertical-align: top;\n",
       "    }\n",
       "\n",
       "    .dataframe thead th {\n",
       "        text-align: right;\n",
       "    }\n",
       "</style>\n",
       "<table border=\"1\" class=\"dataframe\">\n",
       "  <thead>\n",
       "    <tr style=\"text-align: right;\">\n",
       "      <th></th>\n",
       "      <th>ProductID</th>\n",
       "      <th>ProductName</th>\n",
       "      <th>ProductBrand</th>\n",
       "      <th>Gender</th>\n",
       "      <th>Price (INR)</th>\n",
       "      <th>Number of Images</th>\n",
       "      <th>Description</th>\n",
       "      <th>Primary Color</th>\n",
       "    </tr>\n",
       "  </thead>\n",
       "  <tbody>\n",
       "    <tr>\n",
       "      <th>7416</th>\n",
       "      <td>10184209</td>\n",
       "      <td>Garmin Unisex Blue Forerunner 945 Smartwatch 0...</td>\n",
       "      <td>Garmin</td>\n",
       "      <td>Unisex</td>\n",
       "      <td>63090</td>\n",
       "      <td>4</td>\n",
       "      <td>Features:Sync music from select premium stream...</td>\n",
       "      <td>Blue</td>\n",
       "    </tr>\n",
       "    <tr>\n",
       "      <th>7465</th>\n",
       "      <td>10184211</td>\n",
       "      <td>Garmin Unisex Black Forerunner 945 Smartwatch ...</td>\n",
       "      <td>Garmin</td>\n",
       "      <td>Unisex</td>\n",
       "      <td>63090</td>\n",
       "      <td>4</td>\n",
       "      <td>Features:Sync music from select premium stream...</td>\n",
       "      <td>Black</td>\n",
       "    </tr>\n",
       "    <tr>\n",
       "      <th>1568</th>\n",
       "      <td>10026421</td>\n",
       "      <td>MOVADO Men Black Analogue Watch 607243</td>\n",
       "      <td>MOVADO</td>\n",
       "      <td>Men</td>\n",
       "      <td>58854</td>\n",
       "      <td>3</td>\n",
       "      <td>Display: AnalogueMovement: QuartzPower source:...</td>\n",
       "      <td>Black</td>\n",
       "    </tr>\n",
       "    <tr>\n",
       "      <th>1376</th>\n",
       "      <td>10026411</td>\n",
       "      <td>MOVADO Women Blue Analogue Watch 607268</td>\n",
       "      <td>MOVADO</td>\n",
       "      <td>Women</td>\n",
       "      <td>56192</td>\n",
       "      <td>3</td>\n",
       "      <td>Display: AnalogueMovement: QuartzPower source:...</td>\n",
       "      <td>Blue</td>\n",
       "    </tr>\n",
       "    <tr>\n",
       "      <th>9400</th>\n",
       "      <td>10223339</td>\n",
       "      <td>SEIKO Solar Women Silver Analogue watch SUP428P1</td>\n",
       "      <td>SEIKO</td>\n",
       "      <td>Women</td>\n",
       "      <td>34500</td>\n",
       "      <td>6</td>\n",
       "      <td>Display: AnalogueMovement: QuartzPower source:...</td>\n",
       "      <td>Silver</td>\n",
       "    </tr>\n",
       "  </tbody>\n",
       "</table>\n",
       "</div>"
      ],
      "text/plain": [
       "      ProductID                                        ProductName  \\\n",
       "7416   10184209  Garmin Unisex Blue Forerunner 945 Smartwatch 0...   \n",
       "7465   10184211  Garmin Unisex Black Forerunner 945 Smartwatch ...   \n",
       "1568   10026421             MOVADO Men Black Analogue Watch 607243   \n",
       "1376   10026411            MOVADO Women Blue Analogue Watch 607268   \n",
       "9400   10223339   SEIKO Solar Women Silver Analogue watch SUP428P1   \n",
       "\n",
       "     ProductBrand  Gender  Price (INR)  Number of Images  \\\n",
       "7416       Garmin  Unisex        63090                 4   \n",
       "7465       Garmin  Unisex        63090                 4   \n",
       "1568       MOVADO     Men        58854                 3   \n",
       "1376       MOVADO   Women        56192                 3   \n",
       "9400        SEIKO   Women        34500                 6   \n",
       "\n",
       "                                            Description Primary Color  \n",
       "7416  Features:Sync music from select premium stream...          Blue  \n",
       "7465  Features:Sync music from select premium stream...         Black  \n",
       "1568  Display: AnalogueMovement: QuartzPower source:...         Black  \n",
       "1376  Display: AnalogueMovement: QuartzPower source:...          Blue  \n",
       "9400  Display: AnalogueMovement: QuartzPower source:...        Silver  "
      ]
     },
     "execution_count": 10,
     "metadata": {},
     "output_type": "execute_result"
    }
   ],
   "source": [
    "data.sort_values('Price (INR)', ascending = False).head(5)"
   ]
  },
  {
   "cell_type": "markdown",
   "id": "8511545e-8f5a-45f3-9d39-4f35ee0b2f7c",
   "metadata": {},
   "source": [
    "# Average Price of Chumbak Products"
   ]
  },
  {
   "cell_type": "code",
   "execution_count": 11,
   "id": "8d653103-1d40-4c36-a3eb-e65af9d612d1",
   "metadata": {},
   "outputs": [
    {
     "data": {
      "text/plain": [
       "770.0833333333334"
      ]
     },
     "execution_count": 11,
     "metadata": {},
     "output_type": "execute_result"
    }
   ],
   "source": [
    "data[data.ProductBrand == \"Chumbak\"][\"Price (INR)\"].mean()"
   ]
  },
  {
   "cell_type": "markdown",
   "id": "317d835b-d0fd-4feb-b4d5-fe455ca80e2e",
   "metadata": {},
   "source": [
    "# Images for WROGN products vs Images for GAP products"
   ]
  },
  {
   "cell_type": "code",
   "execution_count": 12,
   "id": "20052e66-ce54-4bb6-9b56-eb677e50151d",
   "metadata": {},
   "outputs": [
    {
     "data": {
      "text/html": [
       "<div>\n",
       "<style scoped>\n",
       "    .dataframe tbody tr th:only-of-type {\n",
       "        vertical-align: middle;\n",
       "    }\n",
       "\n",
       "    .dataframe tbody tr th {\n",
       "        vertical-align: top;\n",
       "    }\n",
       "\n",
       "    .dataframe thead th {\n",
       "        text-align: right;\n",
       "    }\n",
       "</style>\n",
       "<table border=\"1\" class=\"dataframe\">\n",
       "  <thead>\n",
       "    <tr style=\"text-align: right;\">\n",
       "      <th></th>\n",
       "      <th>Number of Images</th>\n",
       "    </tr>\n",
       "    <tr>\n",
       "      <th>ProductBrand</th>\n",
       "      <th></th>\n",
       "    </tr>\n",
       "  </thead>\n",
       "  <tbody>\n",
       "    <tr>\n",
       "      <th>GAP</th>\n",
       "      <td>951</td>\n",
       "    </tr>\n",
       "    <tr>\n",
       "      <th>WROGN</th>\n",
       "      <td>1045</td>\n",
       "    </tr>\n",
       "  </tbody>\n",
       "</table>\n",
       "</div>"
      ],
      "text/plain": [
       "              Number of Images\n",
       "ProductBrand                  \n",
       "GAP                        951\n",
       "WROGN                     1045"
      ]
     },
     "execution_count": 12,
     "metadata": {},
     "output_type": "execute_result"
    }
   ],
   "source": [
    "data[(data.ProductBrand == \"GAP\") | (data.ProductBrand ==  \"WROGN\")].groupby([\"ProductBrand\"]).agg({\"Number of Images\": \"sum\"})"
   ]
  },
  {
   "cell_type": "code",
   "execution_count": 13,
   "id": "f7172187-20f0-4ff0-9bf3-4f7d6d54f7d9",
   "metadata": {},
   "outputs": [
    {
     "data": {
      "text/plain": [
       "94"
      ]
     },
     "execution_count": 13,
     "metadata": {},
     "output_type": "execute_result"
    }
   ],
   "source": [
    "1045 - 951"
   ]
  },
  {
   "cell_type": "markdown",
   "id": "4bb21f14-410d-4c4c-af7f-669b41558d06",
   "metadata": {},
   "source": [
    "# Raymond Total Sales at current Price"
   ]
  },
  {
   "cell_type": "code",
   "execution_count": 14,
   "id": "e228b8c4-fa90-4093-97a0-128e9297b0ff",
   "metadata": {},
   "outputs": [
    {
     "data": {
      "text/plain": [
       "142730"
      ]
     },
     "execution_count": 14,
     "metadata": {},
     "output_type": "execute_result"
    }
   ],
   "source": [
    "data[data.ProductBrand == \"Raymond\"][\"Price (INR)\"].sum()\n"
   ]
  },
  {
   "cell_type": "markdown",
   "id": "4e7a8a61-608d-4fb2-b187-f2568809f663",
   "metadata": {},
   "source": [
    "# Gender with most items"
   ]
  },
  {
   "cell_type": "code",
   "execution_count": 15,
   "id": "68e60a35-652a-4802-bb3f-e9ba08781b7c",
   "metadata": {},
   "outputs": [
    {
     "data": {
      "text/plain": [
       "Women          0.410375\n",
       "Men            0.367545\n",
       "Unisex         0.095108\n",
       "Boys           0.088063\n",
       "Girls          0.035225\n",
       "Unisex Kids    0.003683\n",
       "Name: Gender, dtype: float64"
      ]
     },
     "execution_count": 15,
     "metadata": {},
     "output_type": "execute_result"
    }
   ],
   "source": [
    "data.Gender.value_counts(normalize = True)"
   ]
  },
  {
   "cell_type": "markdown",
   "id": "6b7f6001-2a50-4f74-8978-e3835d968076",
   "metadata": {},
   "source": [
    "41% of items belong to Women"
   ]
  },
  {
   "cell_type": "code",
   "execution_count": null,
   "id": "8f707e56-8745-4af8-b63a-b011a47f5688",
   "metadata": {},
   "outputs": [],
   "source": []
  }
 ],
 "metadata": {
  "kernelspec": {
   "display_name": "Python 3 (ipykernel)",
   "language": "python",
   "name": "python3"
  },
  "language_info": {
   "codemirror_mode": {
    "name": "ipython",
    "version": 3
   },
   "file_extension": ".py",
   "mimetype": "text/x-python",
   "name": "python",
   "nbconvert_exporter": "python",
   "pygments_lexer": "ipython3",
   "version": "3.8.11"
  }
 },
 "nbformat": 4,
 "nbformat_minor": 5
}
